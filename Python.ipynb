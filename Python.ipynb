{
 "cells": [
  {
   "cell_type": "code",
   "execution_count": 50,
   "metadata": {},
   "outputs": [
    {
     "name": "stdout",
     "output_type": "stream",
     "text": [
      "5\n",
      "14\n",
      "1\n",
      "-1\n",
      "Pankaj M\n",
      "pankaj 30\n",
      "jaknap\n",
      "Enter Name: Pankaj\n",
      "Enter Score: 2\n",
      "Congratulations Pankaj! You scored: 2\n"
     ]
    }
   ],
   "source": [
    "my_string = \"Pankaj Mahadik\"\n",
    "print(my_string.index('j'))\n",
    "print(len(my_string)) #length of my_string\n",
    "print(my_string.find('a')) #occurences of 'a' in my_string\n",
    "print(my_string.find('z'))\n",
    "print(my_string[0:my_string.find('Maha')+1])\n",
    "print('pankaj ' + str(30))\n",
    "print('pankaj'[::-1]) #Reversing a string\n",
    "name = input('Enter Name: ')\n",
    "score = input('Enter Score: ')\n",
    "print('Congratulations {0}! You scored: {1}'.format(name, score))"
   ]
  },
  {
   "cell_type": "code",
   "execution_count": 33,
   "metadata": {},
   "outputs": [
    {
     "data": {
      "text/plain": [
       "(8, 8)"
      ]
     },
     "execution_count": 33,
     "metadata": {},
     "output_type": "execute_result"
    }
   ],
   "source": [
    "pow(2, 3), 2**3"
   ]
  },
  {
   "cell_type": "code",
   "execution_count": 46,
   "metadata": {},
   "outputs": [
    {
     "name": "stdout",
     "output_type": "stream",
     "text": [
      "8\n",
      "7.8\n",
      "2.792848008753788\n",
      "-7\n",
      "-8\n"
     ]
    }
   ],
   "source": [
    "from math import *#sqrt, ceil, floor\n",
    "print(round(7.8))\n",
    "print(abs(7.8))\n",
    "print(m.sqrt(7.8))\n",
    "print(ceil(-7.8))\n",
    "print(floor(-7.8))"
   ]
  },
  {
   "cell_type": "code",
   "execution_count": 124,
   "metadata": {},
   "outputs": [
    {
     "name": "stdout",
     "output_type": "stream",
     "text": [
      "dict_values(['January', 'February', 'March'])\n",
      "dict_keys(['Jan', 'Feb', 'Mar'])\n",
      "Not Configured\n",
      "March\n",
      "Apr does not exist in months map\n"
     ]
    }
   ],
   "source": [
    "months={\n",
    "          'Jan' : 'January'\n",
    "        , 'Feb' : 'February'\n",
    "        , 'Mar' : 'March'\n",
    "#        , 'Apr' : 'April'\n",
    "       }\n",
    "\n",
    "print(months.values())\n",
    "print(months.keys())\n",
    "print(months.get('Apr', 'Not Configured'))\n",
    "print(months['Mar'])\n",
    "if 'April' in [months.values]:\n",
    "    print(months['Apr'])\n",
    "else:\n",
    "    print('Apr does not exist in months map')"
   ]
  },
  {
   "cell_type": "code",
   "execution_count": 68,
   "metadata": {},
   "outputs": [
    {
     "data": {
      "text/plain": [
       "'March'"
      ]
     },
     "execution_count": 68,
     "metadata": {},
     "output_type": "execute_result"
    }
   ],
   "source": [
    "_"
   ]
  },
  {
   "cell_type": "code",
   "execution_count": 71,
   "metadata": {},
   "outputs": [
    {
     "name": "stdout",
     "output_type": "stream",
     "text": [
      "0 less than 1\n",
      "1 between 1 and 5\n",
      "2 between 1 and 5\n",
      "3 between 1 and 5\n",
      "4 between 1 and 5\n",
      "5 between 1 and 5\n",
      "6 between 6 and 9\n",
      "7 between 6 and 9\n",
      "8 between 6 and 9\n",
      "9 between 6 and 9\n",
      "10 it's 10 now\n"
     ]
    }
   ],
   "source": [
    "i = 0\n",
    "while i <= 10:\n",
    "    if i < 1:\n",
    "        print(i, 'less than 1')\n",
    "    elif i >=1 and i <=5:\n",
    "        print(i, 'between 1 and 5')\n",
    "    elif i > 5 and i < 10:\n",
    "        print(i, 'between 6 and 9')\n",
    "    else:\n",
    "        print(i, 'it\\'s 10 now')\n",
    "    i += 1"
   ]
  },
  {
   "cell_type": "code",
   "execution_count": 72,
   "metadata": {},
   "outputs": [
    {
     "data": {
      "text/plain": [
       "' documentation comments'"
      ]
     },
     "execution_count": 72,
     "metadata": {},
     "output_type": "execute_result"
    }
   ],
   "source": [
    "#code comments\n",
    "''' documentation comments'''"
   ]
  },
  {
   "cell_type": "code",
   "execution_count": 152,
   "metadata": {},
   "outputs": [
    {
     "name": "stdout",
     "output_type": "stream",
     "text": [
      "name 'my_key' is not defined\n"
     ]
    }
   ],
   "source": [
    "import sys\n",
    "import pandas as pd\n",
    "try:\n",
    "    try:\n",
    "        del error\n",
    "    except NameError:\n",
    "        pass\n",
    "    error = (None, None, None)\n",
    "#    str(10)/0\n",
    "    print(my_key)\n",
    "    10/2\n",
    "except ZeroDivisionError as e:\n",
    "    print('division by zero')\n",
    "except (ValueError, NameError) as e:\n",
    "    print(e)\n",
    "#except TypeError as e:\n",
    "#    print('type error')\n",
    "except:\n",
    "    error = sys.exc_info()\n",
    "    error_frame = pd.DataFrame(data=[error], columns=['Error Type', 'Error Message', 'Error Stack Trace'])\n",
    "finally:\n",
    "    if error[0] is not None:\n",
    "        print(error)\n",
    "    \n",
    "    \n"
   ]
  },
  {
   "cell_type": "code",
   "execution_count": 106,
   "metadata": {},
   "outputs": [
    {
     "name": "stdout",
     "output_type": "stream",
     "text": [
      "            1           2           3           4           5           6   \\\n",
      "           1           4           9           16          25          36    \n",
      "1   _________*  ________**  _______***  ______****  _____*****  ____******   \n",
      "2   _________*  ________**  _______***  ______****  _____*****  ____******   \n",
      "3   _________*  ________**  _______***  ______****  _____*****  ____******   \n",
      "4   _________*  ________**  _______***  ______****  _____*****  ____******   \n",
      "5   _________*  ________**  _______***  ______****  _____*****  ____******   \n",
      "6   _________*  ________**  _______***  ______****  _____*****  ____******   \n",
      "7   _________*  ________**  _______***  ______****  _____*****  ____******   \n",
      "8   _________*  ________**  _______***  ______****  _____*****  ____******   \n",
      "9   _________*  ________**  _______***  ______****  _____*****  ____******   \n",
      "10  _________*  ________**  _______***  ______****  _____*****  ____******   \n",
      "\n",
      "            7           8           9           10  \n",
      "           49          64          81          100  \n",
      "1   ___*******  __********  _*********  **********  \n",
      "2   ___*******  __********  _*********  **********  \n",
      "3   ___*******  __********  _*********  **********  \n",
      "4   ___*******  __********  _*********  **********  \n",
      "5   ___*******  __********  _*********  **********  \n",
      "6   ___*******  __********  _*********  **********  \n",
      "7   ___*******  __********  _*********  **********  \n",
      "8   ___*******  __********  _*********  **********  \n",
      "9   ___*******  __********  _*********  **********  \n",
      "10  ___*******  __********  _*********  **********  \n"
     ]
    },
    {
     "data": {
      "text/html": [
       "<div>\n",
       "<style scoped>\n",
       "    .dataframe tbody tr th:only-of-type {\n",
       "        vertical-align: middle;\n",
       "    }\n",
       "\n",
       "    .dataframe tbody tr th {\n",
       "        vertical-align: top;\n",
       "    }\n",
       "\n",
       "    .dataframe thead th {\n",
       "        text-align: right;\n",
       "    }\n",
       "</style>\n",
       "<table border=\"1\" class=\"dataframe\">\n",
       "  <thead>\n",
       "    <tr style=\"text-align: right;\">\n",
       "      <th></th>\n",
       "      <th>0</th>\n",
       "      <th>1</th>\n",
       "      <th>2</th>\n",
       "    </tr>\n",
       "  </thead>\n",
       "  <tbody>\n",
       "    <tr>\n",
       "      <th>0</th>\n",
       "      <td>4</td>\n",
       "      <td>5</td>\n",
       "      <td>6</td>\n",
       "    </tr>\n",
       "    <tr>\n",
       "      <th>1</th>\n",
       "      <td>5</td>\n",
       "      <td>6</td>\n",
       "      <td>7</td>\n",
       "    </tr>\n",
       "    <tr>\n",
       "      <th>2</th>\n",
       "      <td>8</td>\n",
       "      <td>9</td>\n",
       "      <td>10</td>\n",
       "    </tr>\n",
       "    <tr>\n",
       "      <th>3</th>\n",
       "      <td>9</td>\n",
       "      <td>10</td>\n",
       "      <td>11</td>\n",
       "    </tr>\n",
       "    <tr>\n",
       "      <th>4</th>\n",
       "      <td>12</td>\n",
       "      <td>13</td>\n",
       "      <td>14</td>\n",
       "    </tr>\n",
       "    <tr>\n",
       "      <th>5</th>\n",
       "      <td>13</td>\n",
       "      <td>14</td>\n",
       "      <td>15</td>\n",
       "    </tr>\n",
       "  </tbody>\n",
       "</table>\n",
       "</div>"
      ],
      "text/plain": [
       "    0   1   2\n",
       "0   4   5   6\n",
       "1   5   6   7\n",
       "2   8   9  10\n",
       "3   9  10  11\n",
       "4  12  13  14\n",
       "5  13  14  15"
      ]
     },
     "execution_count": 106,
     "metadata": {},
     "output_type": "execute_result"
    }
   ],
   "source": [
    "import pandas as pd\n",
    "import numpy as np\n",
    "square_map = [x for x in range(8) if x%2]\n",
    "square_map = {x:x**2 for x in range(8) if x%2}\n",
    "square_map = {(x, x**2):(str('*' * x)).rjust(10, '_') for x in range(1, 11) if x%2>=0}\n",
    "df_map = pd.DataFrame(data=square_map, index=[x[0] for x in square_map.keys()])\n",
    "print(df_map)\n",
    "df_map\n",
    "df_map_1 = pd.DataFrame([[2*i+j+1, 2*i+j+2, 2*i+j+3] for i in range(3) for j in range(2*i+3, 2*i+5)])\n",
    "df_map_1\n",
    "\n"
   ]
  },
  {
   "cell_type": "code",
   "execution_count": 108,
   "metadata": {},
   "outputs": [
    {
     "name": "stdout",
     "output_type": "stream",
     "text": [
      "friend-1\n",
      "friend-2\n",
      "friend-3\n",
      "friend-4\n",
      "friend-5\n"
     ]
    }
   ],
   "source": [
    "friends=['friend-'+str(x) for x in range(1, 6)]\n",
    "for friend in friends:\n",
    "    print(friend)"
   ]
  },
  {
   "cell_type": "code",
   "execution_count": 123,
   "metadata": {},
   "outputs": [
    {
     "name": "stdout",
     "output_type": "stream",
     "text": [
      "p\n",
      "a\n",
      "n\n",
      "k\n",
      "a\n",
      "j\n"
     ]
    }
   ],
   "source": [
    "for c in 'pankaj':\n",
    "    print(c)"
   ]
  },
  {
   "cell_type": "code",
   "execution_count": 50,
   "metadata": {},
   "outputs": [],
   "source": [
    "def my_seq():\n",
    "    c = 0\n",
    "    while True:\n",
    "        yield(c)\n",
    "        c+=1\n",
    "        "
   ]
  },
  {
   "cell_type": "code",
   "execution_count": 51,
   "metadata": {},
   "outputs": [],
   "source": [
    "my_seq_obj = my_seq()"
   ]
  },
  {
   "cell_type": "code",
   "execution_count": 53,
   "metadata": {},
   "outputs": [
    {
     "name": "stdout",
     "output_type": "stream",
     "text": [
      "5\n",
      "6\n",
      "7\n",
      "8\n",
      "9\n"
     ]
    }
   ],
   "source": [
    "for i in range(5):\n",
    "    print(next(my_seq_obj))"
   ]
  },
  {
   "cell_type": "code",
   "execution_count": 9,
   "metadata": {},
   "outputs": [
    {
     "name": "stdout",
     "output_type": "stream",
     "text": [
      "ChineseDish::TodaysDish::Pankaj\n",
      "FavouriteChineseDish::SpecialDish::Pankaj\n",
      "True\n"
     ]
    }
   ],
   "source": [
    "class Dish():\n",
    "    def __init__(self, name):\n",
    "        self.name = name\n",
    "        \n",
    "    def SpecialDish(self):\n",
    "        return 'Dish::SpecialDish::'+name\n",
    "\n",
    "class ChineseDish(Dish):\n",
    "    def __init__(self, name):\n",
    "        super().__init__(name)\n",
    "\n",
    "    \n",
    "    def TodaysDish(self):\n",
    "        return 'ChineseDish::TodaysDish::'+self.name\n",
    "\n",
    "class FavouriteChineseDish(ChineseDish):\n",
    "    def __init__(self, name):\n",
    "        super().__init__(name)\n",
    "\n",
    "    def SpecialDish(self):\n",
    "        return 'FavouriteChineseDish::SpecialDish::'+ self.name\n",
    "    \n",
    "class FavouriteSpanishDish(ChineseDish):\n",
    "    def __init__(self, name):\n",
    "        super().__init__(name)\n",
    "\n",
    "    def SpecialDish(self):\n",
    "        return 'FavouriteSpanishDish::SpecialDish::'+ self.name\n",
    "    \n",
    "d = FavouriteChineseDish('Pankaj')\n",
    "print(d.TodaysDish())\n",
    "print(d.SpecialDish())\n",
    "\n",
    "print(isinstance(d, (FavouriteSpanishDish, FavouriteChineseDish)))"
   ]
  },
  {
   "cell_type": "code",
   "execution_count": 77,
   "metadata": {},
   "outputs": [
    {
     "name": "stdout",
     "output_type": "stream",
     "text": [
      "normal division: 5/3=1.6666666666666667\n",
      "integer division: 5//3=1\n",
      "modulo: 5%3=2\n"
     ]
    }
   ],
   "source": [
    "#Integer division\n",
    "\n",
    "a = 5\n",
    "b = 3\n",
    "print('normal division: {0}/{1}={2}'.format(a, b, a/b))\n",
    "print('integer division: {0}//{1}={2}'.format(a, b, a//b))\n",
    "print('modulo: {0}%{1}={2}'.format(a, b, a%b))\n",
    "\n"
   ]
  },
  {
   "cell_type": "code",
   "execution_count": 78,
   "metadata": {},
   "outputs": [
    {
     "name": "stdout",
     "output_type": "stream",
     "text": [
      "20 30\n"
     ]
    }
   ],
   "source": [
    "#multple assignment\n",
    "a, b = 20, 30\n",
    "print(a, b)"
   ]
  },
  {
   "cell_type": "code",
   "execution_count": 87,
   "metadata": {},
   "outputs": [
    {
     "name": "stdout",
     "output_type": "stream",
     "text": [
      "-1\n",
      "-3\n",
      "-5\n",
      "-7\n",
      "-9\n"
     ]
    }
   ],
   "source": [
    "#pass for do nothing\n",
    "for i in range(1, 10):\n",
    "    if i % 2 == 0:\n",
    "        pass\n",
    "    else:\n",
    "        print(-i)"
   ]
  },
  {
   "cell_type": "code",
   "execution_count": 95,
   "metadata": {},
   "outputs": [
    {
     "data": {
      "text/plain": [
       "5"
      ]
     },
     "execution_count": 95,
     "metadata": {},
     "output_type": "execute_result"
    }
   ],
   "source": [
    "#conditional assignment\n",
    "a = 7\n",
    "b = 5\n",
    "value = a if a > b and a+b<10 else b\n",
    "value"
   ]
  },
  {
   "cell_type": "code",
   "execution_count": 96,
   "metadata": {},
   "outputs": [
    {
     "data": {
      "text/plain": [
       "False"
      ]
     },
     "execution_count": 96,
     "metadata": {},
     "output_type": "execute_result"
    }
   ],
   "source": [
    "not(10)"
   ]
  },
  {
   "cell_type": "code",
   "execution_count": 100,
   "metadata": {},
   "outputs": [
    {
     "data": {
      "text/plain": [
       "True"
      ]
     },
     "execution_count": 100,
     "metadata": {},
     "output_type": "execute_result"
    }
   ],
   "source": [
    "not(5==7)"
   ]
  },
  {
   "cell_type": "code",
   "execution_count": 99,
   "metadata": {},
   "outputs": [
    {
     "data": {
      "text/plain": [
       "False"
      ]
     },
     "execution_count": 99,
     "metadata": {},
     "output_type": "execute_result"
    }
   ],
   "source": [
    "5==7"
   ]
  },
  {
   "cell_type": "code",
   "execution_count": 102,
   "metadata": {},
   "outputs": [
    {
     "data": {
      "text/plain": [
       "False"
      ]
     },
     "execution_count": 102,
     "metadata": {},
     "output_type": "execute_result"
    }
   ],
   "source": [
    "a = 5\n",
    "b = 5\n",
    "not(a-b==0)"
   ]
  },
  {
   "cell_type": "code",
   "execution_count": 106,
   "metadata": {},
   "outputs": [
    {
     "data": {
      "text/plain": [
       "[False, False]"
      ]
     },
     "execution_count": 106,
     "metadata": {},
     "output_type": "execute_result"
    }
   ],
   "source": [
    "a = 5\n",
    "b = 5\n",
    "[a!=b, not(a==b)]"
   ]
  },
  {
   "cell_type": "code",
   "execution_count": 109,
   "metadata": {},
   "outputs": [
    {
     "name": "stdout",
     "output_type": "stream",
     "text": [
      "1\n",
      "2\n",
      "4\n"
     ]
    }
   ],
   "source": [
    "for i in 1, 2, 4:\n",
    "    print(i)"
   ]
  },
  {
   "cell_type": "code",
   "execution_count": 112,
   "metadata": {},
   "outputs": [
    {
     "data": {
      "text/plain": [
       "6"
      ]
     },
     "execution_count": 112,
     "metadata": {},
     "output_type": "execute_result"
    }
   ],
   "source": [
    "def my_sum(*nums):\n",
    "    ans = 0\n",
    "    for num in nums:\n",
    "        ans += num\n",
    "    return ans\n",
    "\n",
    "my_sum(1, 2, 3)"
   ]
  },
  {
   "cell_type": "code",
   "execution_count": 24,
   "metadata": {},
   "outputs": [
    {
     "name": "stdout",
     "output_type": "stream",
     "text": [
      "['P', 'a', 'n', 'k', 'a', 'j', ' ', 'M', 'a', 'h', 'a', 'd', 'i', 'k']\n",
      "['Pankaj', 'Mahadik']\n"
     ]
    }
   ],
   "source": [
    "name=\"Pankaj Mahadik\"\n",
    "my_list=list(name)\n",
    "print(my_list)\n",
    "print(name.split())"
   ]
  },
  {
   "cell_type": "code",
   "execution_count": 155,
   "metadata": {},
   "outputs": [],
   "source": [
    "with open(\"sample_text.txt\", 'a+') as efile:\n",
    "    efile.write('\\nPankaj')\n"
   ]
  },
  {
   "cell_type": "code",
   "execution_count": 167,
   "metadata": {},
   "outputs": [
    {
     "name": "stdout",
     "output_type": "stream",
     "text": [
      "\n",
      "\n",
      "test\n",
      "\n",
      "Pankaj\n",
      "\n",
      "Pankaj\n",
      "\n",
      "Mahadik\n",
      "\n",
      ":)\n",
      "\n",
      "test\n",
      "\n",
      "test at last\n",
      "\n",
      "test at last\n",
      "\n",
      "test\n",
      "\n",
      "test at last\n",
      "\n",
      "test\n",
      "\n",
      "test at last\n",
      "\n",
      "test\n"
     ]
    }
   ],
   "source": [
    "with open(\"sample_text.txt\", 'r+') as efile:\n",
    "    efile.write('\\ntest')\n",
    "    efile.seek(len(efile.readlines())) #move to last line\n",
    "    efile.seek(0) #move to first line... needed in case mode is a+\n",
    "    for line in efile:\n",
    "        print(line)\n",
    "    efile.write('\\ntest at last')"
   ]
  },
  {
   "cell_type": "code",
   "execution_count": 2,
   "metadata": {},
   "outputs": [],
   "source": [
    "def all_permutations_combinations(arr, length, depth, used, curr, ans):\n",
    "  if len(curr)>0:\n",
    "    ans.append(\"\".join(curr))\n",
    "  \n",
    "  for i in range(length):\n",
    "    if not used[i]:\n",
    "      curr.append(arr[i])\n",
    "      used[i] = True\n",
    "      all_permutations_combinations(arr, length, depth+1, used, curr, ans)\n",
    "      curr.pop()\n",
    "      used[i] = False\n",
    "  return"
   ]
  },
  {
   "cell_type": "code",
   "execution_count": 3,
   "metadata": {},
   "outputs": [
    {
     "name": "stdout",
     "output_type": "stream",
     "text": [
      "A\n",
      "AB\n",
      "ABC\n",
      "AC\n",
      "ACB\n",
      "B\n",
      "BA\n",
      "BAC\n",
      "BC\n",
      "BCA\n",
      "C\n",
      "CA\n",
      "CAB\n",
      "CB\n",
      "CBA\n"
     ]
    }
   ],
   "source": [
    "arr = list(\"ABC\")\n",
    "length = len(arr)\n",
    "used = [False] * len(arr)\n",
    "ans = []\n",
    "all_permutations_combinations(arr, length, 0, used, [], ans)\n",
    "\n",
    "for a in sorted(set(ans)): print(a)"
   ]
  },
  {
   "cell_type": "code",
   "execution_count": 23,
   "metadata": {},
   "outputs": [
    {
     "data": {
      "text/plain": [
       "'ABC'"
      ]
     },
     "execution_count": 23,
     "metadata": {},
     "output_type": "execute_result"
    }
   ],
   "source": [
    "chars = list(\"ABC\")\n",
    "\"\".join(chars[:])"
   ]
  }
 ],
 "metadata": {
  "kernelspec": {
   "display_name": "Python 3",
   "language": "python",
   "name": "python3"
  },
  "language_info": {
   "codemirror_mode": {
    "name": "ipython",
    "version": 3
   },
   "file_extension": ".py",
   "mimetype": "text/x-python",
   "name": "python",
   "nbconvert_exporter": "python",
   "pygments_lexer": "ipython3",
   "version": "3.7.1"
  }
 },
 "nbformat": 4,
 "nbformat_minor": 2
}
